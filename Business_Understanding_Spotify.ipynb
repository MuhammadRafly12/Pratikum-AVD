{
 "cells": [
  {
   "cell_type": "markdown",
   "id": "282986ab",
   "metadata": {},
   "source": [
    "\n",
    "# **Business Understanding: Analisis Lagu Paling Banyak Diputar di Spotify**\n",
    "\n",
    "## 1. Menentukan Tujuan Bisnis\n",
    "Tujuan utama dari analisis ini adalah untuk memahami faktor-faktor yang berkontribusi terhadap popularitas lagu di Spotify. Dengan menganalisis data ini, kita dapat:\n",
    "- Mengidentifikasi lagu dengan jumlah streaming tertinggi.\n",
    "- Menganalisis karakteristik musik yang sering muncul dalam lagu populer (tempo, energi, danceability, dll.).\n",
    "- Melihat tren perilisan lagu berdasarkan tahun dan bulan.\n",
    "- Menentukan apakah ada korelasi antara jumlah playlist atau chart dengan popularitas lagu.\n",
    "\n",
    "## 2. Menilai Situasi\n",
    "Dataset yang digunakan berisi daftar lagu paling banyak diputar di Spotify, dengan berbagai informasi seperti:\n",
    "- **Informasi lagu**: Nama lagu, artis, tahun rilis.\n",
    "- **Popularitas**: Jumlah streaming, jumlah playlist, jumlah masuk chart.\n",
    "- **Karakteristik musik**: Danceability, valence, energy, acousticness, dll.\n",
    "- **Meta-data lain**: Cover album, mode (mayor/minor), dll.\n",
    "\n",
    "Kemungkinan kendala:\n",
    "- Data mungkin tidak mencakup semua lagu di Spotify, hanya yang paling populer.\n",
    "- Tidak ada informasi demografi pendengar, yang bisa mempengaruhi analisis.\n",
    "\n",
    "## 3. Menentukan Tujuan Data Mining\n",
    "Berdasarkan kebutuhan bisnis, tujuan analisis data yang dapat dilakukan:\n",
    "- Membuat daftar lagu dengan jumlah streaming tertinggi.\n",
    "- Menganalisis pola karakteristik musik dalam lagu populer.\n",
    "- Menentukan apakah tahun rilis berpengaruh terhadap popularitas lagu.\n",
    "- Mengukur korelasi antara jumlah playlist dan popularitas lagu.\n",
    "\n",
    "## 4. Membuat Rencana Proyek\n",
    "Langkah-langkah analisis yang akan dilakukan:\n",
    "1. **Pembersihan Data**: Memeriksa dan menangani data yang hilang atau tidak valid.\n",
    "2. **Eksplorasi Data**: Statistik deskriptif untuk memahami distribusi data.\n",
    "3. **Visualisasi Data**: Membuat grafik untuk melihat pola dalam popularitas lagu.\n",
    "4. **Analisis Korelasi**: Mencari hubungan antara berbagai variabel seperti playlist dan jumlah streaming.\n",
    "5. **Kesimpulan dan Insight**: Menyusun rekomendasi berdasarkan hasil analisis.\n"
   ]
  },
  {
   "cell_type": "code",
   "execution_count": null,
   "id": "30e811b8",
   "metadata": {},
   "outputs": [],
   "source": [
    "\n",
    "import pandas as pd\n",
    "import matplotlib.pyplot as plt\n",
    "import seaborn as sns\n",
    "\n",
    "# Membaca dataset\n",
    "file_path = 'Spotify Most Streamed Songs.csv'\n",
    "df = pd.read_csv(file_path)\n",
    "\n",
    "# Menampilkan 5 baris pertama\n",
    "df.head()\n"
   ]
  },
  {
   "cell_type": "code",
   "execution_count": null,
   "id": "0df9a506",
   "metadata": {},
   "outputs": [],
   "source": [
    "\n",
    "# Plot distribusi jumlah streaming\n",
    "plt.figure(figsize=(10,5))\n",
    "sns.histplot(df['streams'], bins=30, kde=True, color='blue')\n",
    "plt.title('Distribusi Jumlah Streaming Lagu')\n",
    "plt.xlabel('Jumlah Streaming')\n",
    "plt.ylabel('Frekuensi')\n",
    "plt.show()\n"
   ]
  }
 ],
 "metadata": {},
 "nbformat": 4,
 "nbformat_minor": 5
}