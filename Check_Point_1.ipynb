{
  "nbformat": 4,
  "nbformat_minor": 0,
  "metadata": {
    "colab": {
      "provenance": []
    },
    "kernelspec": {
      "name": "python3",
      "display_name": "Python 3"
    },
    "language_info": {
      "name": "python"
    }
  },
  "cells": [
    {
      "cell_type": "markdown",
      "source": [
        "# **BUSINESS UNDERSTANDING**\n"
      ],
      "metadata": {
        "id": "7nitrJ9g6Rdr"
      }
    },
    {
      "cell_type": "markdown",
      "source": [
        "### **BUSINIESS OBJECTIVE (TUJUAN BISNIS)**"
      ],
      "metadata": {
        "id": "WyBkForc6bka"
      }
    },
    {
      "cell_type": "markdown",
      "source": [
        "Tujuan utama dari bisnis ini adalah mengidentifikasi tren musik yang ada di Spotify untuk memahami permintaan/preferensi pasar, menganalisis bagaimana Spotify menyesuaikan kontennya dengan kebiasaan pengguna, menentukan peluang bagi Spotify dan layanan streaming lain dalam menyusun strategi, dan terus menambahkan layanan atau tayangan musik demi kepuasan pelanggan atau pengguna."
      ],
      "metadata": {
        "id": "sIUNQH106g-H"
      }
    },
    {
      "cell_type": "markdown",
      "source": [
        "## **Assess Situation (Menilai Situasi)**"
      ],
      "metadata": {
        "id": "J4hfdJrs-vn8"
      }
    },
    {
      "cell_type": "markdown",
      "source": [
        "Semakin banyak orang yang melihat beberapa klip musik di media sosial menjadikan orang-orang penasaran dengan lagu atau artis tertentu dan akhirnya menjadi penikmat musik. Namun, platform streaming musik legal yang mudah diakses masih terbatas, sehingga hal ini dapat menjadi peluang bisnis yang potensial. Spotify, sebagai salah satu perusahaan layanan streaming musik terkemuka, melihat situasi ini sebagai kesempatan untuk memperluas pasar streaming musik, terutama di Amerika Serikat. Tujuan dari analisis ini adalah untuk mengambil peluang dalam dunia streaming musik, terkhususnya di Amerika Serikat, dan memberikan rekomendasi strategis untuk meningkatkan pangsa pasar serta kepuasan pengguna.\n",
        "\n"
      ],
      "metadata": {
        "id": "KFKfcNcY-2sY"
      }
    },
    {
      "cell_type": "markdown",
      "source": [
        "## **Data Mining Goals (Tujuan Analitik)**"
      ],
      "metadata": {
        "id": "xWHPIUOv_0aj"
      }
    },
    {
      "cell_type": "markdown",
      "source": [
        "Mengidentifikasi perilaku pelanggan atau pengguna dari musik yang mereka dengarkan, sehingga perusahaan dapat mengetahui jenis musik atau artis apa yang paling disukai oleh pelanggan atau pengguna. Hal ini dilakukan dengan cara melihat genre musik yang paling sering didengarkan, artis atau band favorit, serta fitur audio seperti danceability, energy, atau tempo yang paling diminati. Dengan demikian, perusahaan dapat memberikan rekomendasi musik yang lebih personal dan sesuai dengan preferensi pengguna, sehingga meningkatkan kepuasan pelanggan dan loyalitas terhadap platform."
      ],
      "metadata": {
        "id": "DZEZX7We_5NH"
      }
    },
    {
      "cell_type": "markdown",
      "source": [
        "## **Project Plan (Perencanaan Proyek)**"
      ],
      "metadata": {
        "id": "7ZVgFnMxAag4"
      }
    },
    {
      "cell_type": "markdown",
      "source": [
        "Mendata atau mengidentifikasi seluruh musik populer yang paling banyak didengarkan oleh pelanggan, mengidentifikasi genre musik apa yang paling banyak diputar, artis atau band favorit, serta fitur audio seperti danceability, energy, atau tempo yang paling diminati. Data ini kemudian diolah menjadi satu set data yang matang sehingga dapat disimpulkan jenis musik atau artis apa yang paling disukai oleh pelanggan. Selanjutnya, dibuat sebuah katalog rekomendasi yang biasa disebut dengan For You atau Discover Weekly, sehingga pelanggan mendapatkan rekomendasi musik yang sesuai dengan preferensi dan kebiasaan mendengarkan mereka. Hal ini bertujuan untuk meningkatkan kepuasan pelanggan dan engagement dengan platform.\n",
        "\n"
      ],
      "metadata": {
        "id": "zdFBmxgdAdef"
      }
    }
  ]
}