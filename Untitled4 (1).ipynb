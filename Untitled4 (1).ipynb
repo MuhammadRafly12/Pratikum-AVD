{
  "nbformat": 4,
  "nbformat_minor": 0,
  "metadata": {
    "colab": {
      "provenance": []
    },
    "kernelspec": {
      "name": "python3",
      "display_name": "Python 3"
    },
    "language_info": {
      "name": "python"
    }
  },
  "cells": [
    {
      "cell_type": "markdown",
      "source": [
        "Business Understanding:\n",
        "\n",
        "1. Tujuan Bisnis\n",
        "\n",
        "  Tujuan utama dari analisis ini adalah untuk memahami faktor-faktor yang berkontribusi terhadap popularitas lagu di Spotify. Dengan menganalisis data ini, kita dapat:\n",
        "\n",
        "\n",
        "*   Mengidentifikasi lagu dengan jumlah streaming tertinggi.\n",
        "*   Menganalisis karakteristik musik yang sering muncul dalam lagu populer (tempo, energi, danceability, dll.).\n",
        "*   Melihat tren perilisan lagu berdasarkan tahun dan bulan.\n",
        "\n",
        "2. Menilai Situasi\n",
        "\n",
        "  Dataset yang digunakan berisi daftar lagu paling banyak diputar di Spotify, dengan berbagai informasi seperti:\n",
        "\n",
        "*   Informasi lagu: Nama lagu, artis, tahun rilis.\n",
        "*   Popularitas: Jumlah streaming, jumlah playlist, jumlah masuk chart.\n",
        "*   Karakteristik musik: Danceability, valence, energy, acousticness, dll\n",
        "\n",
        "  Kemungkinan kendala:\n",
        "\n",
        "  Data mungkin tidak mencakup semua lagu di Spotify, hanya yang paling banyak di dengar.\n",
        "  Tidak ada informasi demografi pendengar, yang bisa mempengaruhi analisis.\n",
        "\n",
        "3. Tujuan Data Mining\n",
        "\n",
        "  Berdasarkan kebutuhan bisnis, tujuan analisis data yang dapat dilakukan:\n",
        "\n",
        "*   Membuat daftar lagu dengan jumlah paling banyak di putar.\n",
        "*   Mempelajari korelasi antara atribut musik dan popularitas lagu.\n",
        "*   Menganalisis pola karakteristik musik dalam lagu populer.\n",
        "*   Membandingkan pola streaming di berbagai platform.\n",
        "\n",
        "4. Perencanaan Proyek\n",
        "\n",
        "* Pembersihan Data\n",
        "\n",
        "  Memeriksa dan menangani data yang hilang atau tidak valid.\n",
        "\n",
        "  Menghapus duplikat data jika ada.\n",
        "\n",
        "  Memastikan format data konsisten (misalnya, tanggal, angka, dll.).\n",
        "\n",
        "*  Eksplorasi Data\n",
        "\n",
        "  Melakukan statistik deskriptif untuk memahami distribusi data.\n",
        "\n",
        "  Menganalisis variabel-variabel kunci seperti jumlah streaming, danceability, energy, dll.\n",
        "\n",
        "  Mengetahui distribusi tahun rilis lagu dan bulan rilis.\n",
        "* Visualisasi Data\n",
        "\n",
        "  Membuat grafik untuk melihat pola dalam popularitas lagu.\n",
        "\n",
        "  Visualisasi distribusi jumlah streaming menggunakan histogram.\n",
        "\n",
        "  Membuat scatter plot untuk melihat hubungan antara variabel seperti danceability dan jumlah streaming.\n",
        "\n",
        "  Visualisasi tren popularitas lagu berdasarkan tahun rilis.\n",
        "* Analisis Korelasi\n",
        "\n",
        "  Mencari hubungan antara berbagai variabel seperti jumlah playlist dan jumlah streaming.\n",
        "\n",
        "  Menggunakan heatmap untuk melihat korelasi antara variabel-variabel musik (danceability, energy, valence, dll.).\n",
        "\n",
        "  Menganalisis apakah lagu yang masuk chart memiliki jumlah streaming yang lebih tinggi.\n",
        "\n",
        "  "
      ],
      "metadata": {
        "id": "T-usiCGYQmsJ"
      }
    }
  ]
}